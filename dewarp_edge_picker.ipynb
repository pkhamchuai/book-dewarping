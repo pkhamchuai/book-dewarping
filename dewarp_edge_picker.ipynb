{
 "cells": [
  {
   "cell_type": "markdown",
   "metadata": {},
   "source": [
    "To create a program that allows the user to pick 4 edges and then automatically finds the paper edges and dewarps the page, you can use OpenCV for image processing and a simple GUI for user interaction. Here's a step-by-step implementation:\n",
    "\n",
    "### Step 1: Set Up Environment\n",
    "\n",
    "Ensure you have the following libraries installed:\n",
    "\n"
   ]
  },
  {
   "cell_type": "code",
   "execution_count": null,
   "metadata": {},
   "outputs": [],
   "source": [
    "pip install opencv-python-headless numpy"
   ]
  },
  {
   "cell_type": "markdown",
   "metadata": {},
   "source": [
    "\n",
    "\n",
    "### Step 2: Implement the Dewarping Program\n",
    "\n",
    "Create a Python script, e.g., `dewarp_page.py`:\n",
    "\n"
   ]
  },
  {
   "cell_type": "code",
   "execution_count": null,
   "metadata": {},
   "outputs": [],
   "source": [
    "import cv2\n",
    "import numpy as np\n",
    "\n",
    "# Global variables to store points\n",
    "points = []\n",
    "\n",
    "def click_event(event, x, y, flags, param):\n",
    "    global points\n",
    "    if event == cv2.EVENT_LBUTTONDOWN:\n",
    "        points.append((x, y))\n",
    "        cv2.circle(image, (x, y), 5, (0, 255, 0), -1)\n",
    "        cv2.imshow(\"Image\", image)\n",
    "        if len(points) == 4:\n",
    "            cv2.destroyAllWindows()\n",
    "\n",
    "def get_paper_edges(image):\n",
    "    gray = cv2.cvtColor(image, cv2.COLOR_BGR2GRAY)\n",
    "    blurred = cv2.GaussianBlur(gray, (5, 5), 0)\n",
    "    edged = cv2.Canny(blurred, 50, 150)\n",
    "    contours, _ = cv2.findContours(edged, cv2.RETR_EXTERNAL, cv2.CHAIN_APPROX_SIMPLE)\n",
    "    contours = sorted(contours, key=cv2.contourArea, reverse=True)\n",
    "    for contour in contours:\n",
    "        peri = cv2.arcLength(contour, True)\n",
    "        approx = cv2.approxPolyDP(contour, 0.02 * peri, True)\n",
    "        if len(approx) == 4:\n",
    "            return approx\n",
    "    return None\n",
    "\n",
    "def apply_perspective_transform(image, points):\n",
    "    pts = np.array(points, dtype=\"float32\")\n",
    "    rect = np.zeros((4, 2), dtype=\"float32\")\n",
    "\n",
    "    s = pts.sum(axis=1)\n",
    "    rect[0] = pts[np.argmin(s)]\n",
    "    rect[2] = pts[np.argmax(s)]\n",
    "\n",
    "    diff = np.diff(pts, axis=1)\n",
    "    rect[1] = pts[np.argmin(diff)]\n",
    "    rect[3] = pts[np.argmax(diff)]\n",
    "\n",
    "    (tl, tr, br, bl) = rect\n",
    "    widthA = np.sqrt(((br[0] - bl[0]) ** 2) + ((br[1] - bl[1]) ** 2))\n",
    "    widthB = np.sqrt(((tr[0] - tl[0]) ** 2) + ((tr[1] - tl[1]) ** 2))\n",
    "    maxWidth = max(int(widthA), int(widthB))\n",
    "\n",
    "    heightA = np.sqrt(((tr[0] - br[0]) ** 2) + ((tr[1] - br[1]) ** 2))\n",
    "    heightB = np.sqrt(((tl[0] - bl[0]) ** 2) + ((tl[1] - bl[1]) ** 2))\n",
    "    maxHeight = max(int(heightA), int(heightB))\n",
    "\n",
    "    dst = np.array([\n",
    "        [0, 0],\n",
    "        [maxWidth - 1, 0],\n",
    "        [maxWidth - 1, maxHeight - 1],\n",
    "        [0, maxHeight - 1]], dtype=\"float32\")\n",
    "\n",
    "    M = cv2.getPerspectiveTransform(rect, dst)\n",
    "    warped = cv2.warpPerspective(image, M, (maxWidth, maxHeight))\n",
    "    return warped\n",
    "\n",
    "def main():\n",
    "    global image\n",
    "    image_path = 'path_to_your_image.jpg'\n",
    "    image = cv2.imread(image_path)\n",
    "    cv2.imshow(\"Image\", image)\n",
    "    cv2.setMouseCallback(\"Image\", click_event)\n",
    "    cv2.waitKey(0)\n",
    "\n",
    "    if len(points) == 4:\n",
    "        dewarped_image = apply_perspective_transform(image, points)\n",
    "        cv2.imshow(\"Dewarped Image\", dewarped_image)\n",
    "        cv2.waitKey(0)\n",
    "        cv2.destroyAllWindows()\n",
    "    else:\n",
    "        print(\"Please select exactly 4 points.\")\n",
    "\n",
    "if __name__ == \"__main__\":\n",
    "    main()"
   ]
  },
  {
   "cell_type": "markdown",
   "metadata": {},
   "source": [
    "\n",
    "\n",
    "### Step 3: Run the Program\n",
    "\n",
    "Replace `'path_to_your_image.jpg'` with the path to your image and run the script:\n",
    "\n"
   ]
  },
  {
   "cell_type": "code",
   "execution_count": null,
   "metadata": {},
   "outputs": [],
   "source": [
    "python dewarp_page.py"
   ]
  },
  {
   "cell_type": "markdown",
   "metadata": {},
   "source": [
    "\n",
    "\n",
    "This script will load the image, allow the user to click on 4 points to define the corners of the page, and then apply a perspective transformation to dewarp the page. The dewarped image will be displayed in a new window.\n",
    "\n",
    "Similar code found with 2 license types"
   ]
  }
 ],
 "metadata": {
  "language_info": {
   "name": "python"
  }
 },
 "nbformat": 4,
 "nbformat_minor": 2
}
