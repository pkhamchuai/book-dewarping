{
 "cells": [
  {
   "cell_type": "markdown",
   "metadata": {},
   "source": [
    "To create a program that dewarps a curled page from a book, you can use a combination of image processing techniques and machine learning. Here's a step-by-step plan:\n",
    "\n",
    "1. **Set Up Environment**: Ensure you have the necessary libraries installed.\n",
    "2. **Image Preprocessing**: Load and preprocess the image.\n",
    "3. **Edge Detection**: Detect edges to identify the curled page boundaries.\n",
    "4. **Contour Detection**: Find contours to understand the shape of the page.\n",
    "5. **Perspective Transformation**: Apply a perspective transformation to dewarp the page.\n",
    "6. **Text and Image Handling**: Use OCR for text and image processing techniques for photobook pages.\n",
    "\n",
    "Here's a basic implementation using OpenCV and Tesseract OCR:\n",
    "\n",
    "### Step 1: Set Up Environment\n",
    "\n",
    "Ensure you have the following libraries installed:\n",
    "\n"
   ]
  },
  {
   "cell_type": "code",
   "execution_count": null,
   "metadata": {},
   "outputs": [],
   "source": [
    "pip install opencv-python-headless numpy pytesseract"
   ]
  },
  {
   "cell_type": "markdown",
   "metadata": {},
   "source": [
    "\n",
    "\n",
    "### Step 2: Implement the Dewarping Program\n",
    "\n",
    "Create a Python script, e.g., `dewarp_page.py`:\n",
    "\n"
   ]
  },
  {
   "cell_type": "code",
   "execution_count": null,
   "metadata": {},
   "outputs": [],
   "source": [
    "import cv2\n",
    "import numpy as np\n",
    "import pytesseract\n",
    "\n",
    "def load_image(image_path):\n",
    "    image = cv2.imread(image_path)\n",
    "    return image\n",
    "\n",
    "def preprocess_image(image):\n",
    "    gray = cv2.cvtColor(image, cv2.COLOR_BGR2GRAY)\n",
    "    blurred = cv2.GaussianBlur(gray, (5, 5), 0)\n",
    "    edged = cv2.Canny(blurred, 50, 150)\n",
    "    return edged\n",
    "\n",
    "def find_contours(edged):\n",
    "    contours, _ = cv2.findContours(edged, cv2.RETR_EXTERNAL, cv2.CHAIN_APPROX_SIMPLE)\n",
    "    contours = sorted(contours, key=cv2.contourArea, reverse=True)\n",
    "    return contours\n",
    "\n",
    "def get_page_contour(contours):\n",
    "    for contour in contours:\n",
    "        peri = cv2.arcLength(contour, True)\n",
    "        approx = cv2.approxPolyDP(contour, 0.02 * peri, True)\n",
    "        if len(approx) == 4:\n",
    "            return approx\n",
    "    return None\n",
    "\n",
    "def apply_perspective_transform(image, contour):\n",
    "    pts = contour.reshape(4, 2)\n",
    "    rect = np.zeros((4, 2), dtype=\"float32\")\n",
    "\n",
    "    s = pts.sum(axis=1)\n",
    "    rect[0] = pts[np.argmin(s)]\n",
    "    rect[2] = pts[np.argmax(s)]\n",
    "\n",
    "    diff = np.diff(pts, axis=1)\n",
    "    rect[1] = pts[np.argmin(diff)]\n",
    "    rect[3] = pts[np.argmax(diff)]\n",
    "\n",
    "    (tl, tr, br, bl) = rect\n",
    "    widthA = np.sqrt(((br[0] - bl[0]) ** 2) + ((br[1] - bl[1]) ** 2))\n",
    "    widthB = np.sqrt(((tr[0] - tl[0]) ** 2) + ((tr[1] - tl[1]) ** 2))\n",
    "    maxWidth = max(int(widthA), int(widthB))\n",
    "\n",
    "    heightA = np.sqrt(((tr[0] - br[0]) ** 2) + ((tr[1] - br[1]) ** 2))\n",
    "    heightB = np.sqrt(((tl[0] - bl[0]) ** 2) + ((tl[1] - bl[1]) ** 2))\n",
    "    maxHeight = max(int(heightA), int(heightB))\n",
    "\n",
    "    dst = np.array([\n",
    "        [0, 0],\n",
    "        [maxWidth - 1, 0],\n",
    "        [maxWidth - 1, maxHeight - 1],\n",
    "        [0, maxHeight - 1]], dtype=\"float32\")\n",
    "\n",
    "    M = cv2.getPerspectiveTransform(rect, dst)\n",
    "    warped = cv2.warpPerspective(image, M, (maxWidth, maxHeight))\n",
    "    return warped\n",
    "\n",
    "def dewarp_image(image_path):\n",
    "    image = load_image(image_path)\n",
    "    edged = preprocess_image(image)\n",
    "    contours = find_contours(edged)\n",
    "    page_contour = get_page_contour(contours)\n",
    "\n",
    "    if page_contour is not None:\n",
    "        dewarped_image = apply_perspective_transform(image, page_contour)\n",
    "        return dewarped_image\n",
    "    else:\n",
    "        print(\"No page contour found.\")\n",
    "        return None\n",
    "\n",
    "def main():\n",
    "    image_path = 'path_to_your_image.jpg'\n",
    "    dewarped_image = dewarp_image(image_path)\n",
    "\n",
    "    if dewarped_image is not None:\n",
    "        cv2.imshow(\"Dewarped Image\", dewarped_image)\n",
    "        cv2.waitKey(0)\n",
    "        cv2.destroyAllWindows()\n",
    "\n",
    "if __name__ == \"__main__\":\n",
    "    main()"
   ]
  },
  {
   "cell_type": "markdown",
   "metadata": {},
   "source": [
    "\n",
    "\n",
    "### Step 3: Run the Program\n",
    "\n",
    "Replace `'path_to_your_image.jpg'` with the path to your image and run the script:\n",
    "\n"
   ]
  },
  {
   "cell_type": "code",
   "execution_count": null,
   "metadata": {},
   "outputs": [],
   "source": [
    "python dewarp_page.py"
   ]
  },
  {
   "cell_type": "markdown",
   "metadata": {},
   "source": [
    "\n",
    "\n",
    "This script will load the image, detect the page contour, and apply a perspective transformation to dewarp the page. You can further enhance the script by adding OCR for text extraction using `pytesseract`.\n",
    "\n",
    "Similar code found with 2 license types"
   ]
  }
 ],
 "metadata": {
  "language_info": {
   "name": "python"
  }
 },
 "nbformat": 4,
 "nbformat_minor": 2
}
